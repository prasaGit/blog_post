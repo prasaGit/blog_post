{
  "nbformat": 4,
  "nbformat_minor": 0,
  "metadata": {
    "colab": {
      "name": "try_stacking algorithm.ipynb",
      "provenance": []
    },
    "kernelspec": {
      "name": "python3",
      "display_name": "Python 3"
    }
  },
  "cells": [
    {
      "cell_type": "code",
      "metadata": {
        "colab": {
          "resources": {
            "http://localhost:8080/nbextensions/google.colab/files.js": {
              "data": "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",
              "ok": true,
              "headers": [
                [
                  "content-type",
                  "application/javascript"
                ]
              ],
              "status": 200,
              "status_text": ""
            }
          },
          "base_uri": "https://localhost:8080/",
          "height": 72
        },
        "id": "a04ZXupC-YVk",
        "outputId": "29b23e13-cc87-4df9-d7a0-007e71c99ff6"
      },
      "source": [
        "!pip install -q kaggle\n",
        "from google.colab import files\n",
        "files.upload()\n",
        "!mkdir ~/.kaggle\n",
        "!cp kaggle.json ~/.kaggle/\n",
        "\n"
      ],
      "execution_count": 1,
      "outputs": [
        {
          "output_type": "display_data",
          "data": {
            "text/html": [
              "\n",
              "     <input type=\"file\" id=\"files-70e9dbc7-5fbb-4e1a-a947-96f91de17682\" name=\"files[]\" multiple disabled\n",
              "        style=\"border:none\" />\n",
              "     <output id=\"result-70e9dbc7-5fbb-4e1a-a947-96f91de17682\">\n",
              "      Upload widget is only available when the cell has been executed in the\n",
              "      current browser session. Please rerun this cell to enable.\n",
              "      </output>\n",
              "      <script src=\"/nbextensions/google.colab/files.js\"></script> "
            ],
            "text/plain": [
              "<IPython.core.display.HTML object>"
            ]
          },
          "metadata": {
            "tags": []
          }
        },
        {
          "output_type": "stream",
          "text": [
            "Saving kaggle.json to kaggle.json\n"
          ],
          "name": "stdout"
        }
      ]
    },
    {
      "cell_type": "code",
      "metadata": {
        "id": "qNMdJE8vAsSl"
      },
      "source": [
        "!chmod 600 ~/.kaggle/kaggle.json\n",
        "#unzip the folder\n",
        "!mkdir train"
      ],
      "execution_count": 2,
      "outputs": []
    },
    {
      "cell_type": "code",
      "metadata": {
        "colab": {
          "base_uri": "https://localhost:8080/"
        },
        "id": "X0NHz7cmBAe0",
        "outputId": "ca09b505-e2d3-4af2-bf8c-93acf545c3fc"
      },
      "source": [
        "!kaggle datasets download -d uciml/pima-indians-diabetes-database"
      ],
      "execution_count": 5,
      "outputs": [
        {
          "output_type": "stream",
          "text": [
            "Downloading pima-indians-diabetes-database.zip to /content\n",
            "\r  0% 0.00/8.91k [00:00<?, ?B/s]\n",
            "\r100% 8.91k/8.91k [00:00<00:00, 7.80MB/s]\n"
          ],
          "name": "stdout"
        }
      ]
    },
    {
      "cell_type": "code",
      "metadata": {
        "colab": {
          "base_uri": "https://localhost:8080/"
        },
        "id": "hy7BsWPzAW7x",
        "outputId": "41534cc0-8d6e-498d-bfa1-71a4806a135e"
      },
      "source": [
        "!unzip pima-indians-diabetes-database.zip -d train\n"
      ],
      "execution_count": 6,
      "outputs": [
        {
          "output_type": "stream",
          "text": [
            "Archive:  pima-indians-diabetes-database.zip\n",
            "  inflating: train/diabetes.csv      \n"
          ],
          "name": "stdout"
        }
      ]
    },
    {
      "cell_type": "code",
      "metadata": {
        "id": "9oNDlLq-BRkf"
      },
      "source": [
        "# example of a super learner model for binary classification\n",
        "from numpy import hstack\n",
        "from numpy import vstack\n",
        "from numpy import asarray\n",
        "import pandas as pd\n",
        "from sklearn.metrics import confusion_matrix, accuracy_score, classification_report\n",
        "from sklearn.model_selection import KFold\n",
        "from sklearn.model_selection import train_test_split\n",
        "from sklearn.metrics import accuracy_score\n",
        "from sklearn.neighbors import KNeighborsClassifier\n",
        "from sklearn.linear_model import LogisticRegression\n",
        "from sklearn.tree import DecisionTreeClassifier\n",
        "from sklearn.svm import SVC\n",
        "from sklearn.naive_bayes import GaussianNB\n",
        "from sklearn.ensemble import AdaBoostClassifier\n",
        "from sklearn.ensemble import BaggingClassifier\n",
        "from sklearn.ensemble import RandomForestClassifier\n",
        "from sklearn.ensemble import ExtraTreesClassifier\n"
      ],
      "execution_count": 13,
      "outputs": []
    },
    {
      "cell_type": "code",
      "metadata": {
        "id": "h94jXik0-m90"
      },
      "source": [
        "# load the data\n",
        "data = pd.read_csv('/content/train/diabetes.csv')\n",
        "df = data.copy()\n",
        "feature_columns = list(df.columns)\n",
        "feature_columns.remove('Outcome')\n",
        "from sklearn.impute import SimpleImputer\n",
        "fill_values = SimpleImputer(missing_values=0, strategy=\"mean\", copy=False)\n",
        "df[feature_columns] = fill_values.fit_transform(df[feature_columns])\n",
        "# split the data into train and test\n",
        "X = data.iloc[:, :-1].values\n",
        "y = data.iloc[:, -1].values\n",
        "X_train, X_test, y_train, y_test = train_test_split(X, y, test_size=0.3, random_state=42, stratify = y)"
      ],
      "execution_count": 9,
      "outputs": []
    },
    {
      "cell_type": "code",
      "metadata": {
        "id": "7-LgdgXP_b_r"
      },
      "source": [
        "# create a list of base-models\n",
        "def get_models():\n",
        "\tmodels = list()\n",
        "\tmodels.append(LogisticRegression(solver='liblinear'))\n",
        "\tmodels.append(DecisionTreeClassifier())\n",
        "\tmodels.append(SVC(gamma='scale', probability=True))\n",
        "\tmodels.append(GaussianNB())\n",
        "\tmodels.append(KNeighborsClassifier())\n",
        "\tmodels.append(AdaBoostClassifier())\n",
        "\tmodels.append(BaggingClassifier(n_estimators=10))\n",
        "\tmodels.append(RandomForestClassifier(n_estimators=10))\n",
        "\tmodels.append(ExtraTreesClassifier(n_estimators=10))\n",
        "\treturn models\n",
        " \n",
        "# collect out of fold predictions form k-fold cross validation\n",
        "def get_out_of_fold_predictions(X, y, models):\n",
        "\tmeta_X, meta_y = list(), list()\n",
        "\t# define split of data\n",
        "\tkfold = KFold(n_splits=10, shuffle=True)\n",
        "\t# enumerate splits\n",
        "\tfor train_ix, test_ix in kfold.split(X):\n",
        "\t\tfold_yhats = list()\n",
        "\t\t# get data\n",
        "\t\ttrain_X, test_X = X[train_ix], X[test_ix]\n",
        "\t\ttrain_y, test_y = y[train_ix], y[test_ix]\n",
        "\t\tmeta_y.extend(test_y)\n",
        "\t\t# fit and make predictions with each sub-model\n",
        "\t\tfor model in models:\n",
        "\t\t\tmodel.fit(train_X, train_y)\n",
        "\t\t\tyhat = model.predict_proba(test_X)\n",
        "\t\t\t# store columns\n",
        "\t\t\tfold_yhats.append(yhat)\n",
        "\t\t# store fold yhats as columns\n",
        "\t\tmeta_X.append(hstack(fold_yhats))\n",
        "\treturn vstack(meta_X), asarray(meta_y)\n",
        " \n",
        "# fit all base models on the training dataset\n",
        "def fit_base_models(X, y, models):\n",
        "\tfor model in models:\n",
        "\t\tmodel.fit(X, y)\n",
        " \n",
        "# fit a meta model\n",
        "def fit_meta_model(X, y):\n",
        "\tmodel = LogisticRegression(solver='liblinear')\n",
        "\tmodel.fit(X, y)\n",
        "\treturn model\n",
        " \n",
        "# evaluate a list of models on a dataset\n",
        "scores = {}\n",
        "def evaluate_models_enhance(X_train, X_test, y_train, y_test, models):\n",
        "  for model in models:\n",
        "    y_test_pred = model.predict(X_test)\n",
        "    y_train_pred = model.predict(X_train)\n",
        "    # print(f'Metrics for {model.__class__.__name__} :\\n')\n",
        "    # print(\"TRAINIG RESULTS: \\n-------------------------------\")\n",
        "    # clf_report = pd.DataFrame(classification_report(y_train, y_train_pred, output_dict=True))\n",
        "    # print(f\"ACCURACY SCORE: {(accuracy_score(y_train, y_train_pred))*100}\")\n",
        "    # print('\\n')\n",
        "    # print(\"TESTING RESULTS: \\n-------------------------------\")\n",
        "    # clf_report = pd.DataFrame(classification_report(y_test, y_test_pred, output_dict=True))\n",
        "    # print(f\"ACCURACY SCORE: {(accuracy_score(y_test, y_test_pred))*100}\")\n",
        "    # print(\"\\n=================================\")\n",
        "    scores[model.__class__.__name__] = {\n",
        "        'Train': (accuracy_score(y_train, y_train_pred))*100,\n",
        "        'Test': (accuracy_score(y_test, y_test_pred))*100,\n",
        "    }\n",
        "    print(scores)\n",
        "                      \n",
        "# make predictions with stacked model\n",
        "def super_learner_predictions(X, models, meta_model):\n",
        "\tmeta_X = list()\n",
        "\tfor model in models:\n",
        "\t\tyhat = model.predict_proba(X)\n",
        "\t\tmeta_X.append(yhat)\n",
        "\tmeta_X = hstack(meta_X)\n",
        "\t# predict\n",
        "\treturn meta_model.predict(meta_X)\n",
        " \n",
        "# evaluate a list of models based on stacked prediction\n",
        "# def evaluate_models_stack(X_train, X_test, y_train, y_test, models, meta_model):\n",
        "#   for model in models:\n",
        "#     yhat_train = super_learner_predictions(X_train, models, meta_model)\n",
        "#     yhat_test = super_learner_predictions(X_test, models, meta_model)\n",
        "#     print(\"RESULTS FOR SUPER LEARNER: \\n-------------------------------\")\n",
        "#     clf_report = pd.DataFrame(classification_report(y_train, yhat_train, output_dict=True))\n",
        "#     print(f\"ACCURACY SCORE ON TRAIN: {(accuracy_score(y_train, yhat_train))*100}\")\n",
        "#     print('\\n')\n",
        "#     clf_report = pd.DataFrame(classification_report(y_test, yhat_test, output_dict=True))\n",
        "#     print(f\"ACCURACY SCORE ON TEST: {(accuracy_score(y_test, yhat_test))*100}\")\n",
        "#     print(\"\\n=================================\")"
      ],
      "execution_count": 55,
      "outputs": []
    },
    {
      "cell_type": "code",
      "metadata": {
        "colab": {
          "base_uri": "https://localhost:8080/"
        },
        "id": "FjWI0-yjBlTH",
        "outputId": "fce0a724-eefd-4b3c-9911-85247c404c2e"
      },
      "source": [
        "print('Train', X.shape, y.shape, 'Test', X_test.shape, y_test.shape)\n",
        "# get models\n",
        "models = get_models()\n",
        "# get out of fold predictions\n",
        "meta_X, meta_y = get_out_of_fold_predictions(X, y, models)\n",
        "print('Meta ', meta_X.shape, meta_y.shape)\n",
        "# fit base models\n",
        "fit_base_models(X_train, y_train, models)\n",
        "# fit the meta model\n",
        "meta_model = fit_meta_model(meta_X, meta_y)\n",
        "# evaluate base models\n",
        "evaluate_models_enhance(X_train, X_test, y_train, y_test, models)\n",
        "# evaluate stacked model\n",
        "# evaluate_models_stack(X_train, X_test, y_train, y_test, models, meta_model)\n",
        "yhat_train = super_learner_predictions(X_train, models, meta_model)\n",
        "yhat_test = super_learner_predictions(X_test, models, meta_model)\n",
        "print(\"RESULTS FOR SUPER LEARNER: \\n-------------------------------\")\n",
        "clf_report = pd.DataFrame(classification_report(y_train, yhat_train, output_dict=True))\n",
        "print(f\"ACCURACY SCORE ON TRAIN: {(accuracy_score(y_train, yhat_train))*100}\")\n",
        "print('\\n')\n",
        "clf_report = pd.DataFrame(classification_report(y_test, yhat_test, output_dict=True))\n",
        "print(f\"ACCURACY SCORE ON TEST: {(accuracy_score(y_test, yhat_test))*100}\")\n",
        "print(\"\\n=================================\")\n",
        " \n",
        "# print('Super Learner: %.3f' % (accuracy_score(y_test, yhat) * 100))"
      ],
      "execution_count": 56,
      "outputs": [
        {
          "output_type": "stream",
          "text": [
            "Train (768, 8) (768,) Test (231, 8) (231,)\n",
            "Meta  (768, 18) (768,)\n",
            "{'LogisticRegression': {'Train': 78.58472998137802, 'Test': 73.59307359307358}}\n",
            "{'LogisticRegression': {'Train': 78.58472998137802, 'Test': 73.59307359307358}, 'DecisionTreeClassifier': {'Train': 100.0, 'Test': 73.59307359307358}}\n",
            "{'LogisticRegression': {'Train': 78.58472998137802, 'Test': 73.59307359307358}, 'DecisionTreeClassifier': {'Train': 100.0, 'Test': 73.59307359307358}, 'SVC': {'Train': 78.02607076350093, 'Test': 74.45887445887446}}\n",
            "{'LogisticRegression': {'Train': 78.58472998137802, 'Test': 73.59307359307358}, 'DecisionTreeClassifier': {'Train': 100.0, 'Test': 73.59307359307358}, 'SVC': {'Train': 78.02607076350093, 'Test': 74.45887445887446}, 'GaussianNB': {'Train': 77.6536312849162, 'Test': 74.45887445887446}}\n",
            "{'LogisticRegression': {'Train': 78.58472998137802, 'Test': 73.59307359307358}, 'DecisionTreeClassifier': {'Train': 100.0, 'Test': 73.59307359307358}, 'SVC': {'Train': 78.02607076350093, 'Test': 74.45887445887446}, 'GaussianNB': {'Train': 77.6536312849162, 'Test': 74.45887445887446}, 'KNeighborsClassifier': {'Train': 80.63314711359403, 'Test': 71.86147186147186}}\n",
            "{'LogisticRegression': {'Train': 78.58472998137802, 'Test': 73.59307359307358}, 'DecisionTreeClassifier': {'Train': 100.0, 'Test': 73.59307359307358}, 'SVC': {'Train': 78.02607076350093, 'Test': 74.45887445887446}, 'GaussianNB': {'Train': 77.6536312849162, 'Test': 74.45887445887446}, 'KNeighborsClassifier': {'Train': 80.63314711359403, 'Test': 71.86147186147186}, 'AdaBoostClassifier': {'Train': 84.17132216014897, 'Test': 74.02597402597402}}\n",
            "{'LogisticRegression': {'Train': 78.58472998137802, 'Test': 73.59307359307358}, 'DecisionTreeClassifier': {'Train': 100.0, 'Test': 73.59307359307358}, 'SVC': {'Train': 78.02607076350093, 'Test': 74.45887445887446}, 'GaussianNB': {'Train': 77.6536312849162, 'Test': 74.45887445887446}, 'KNeighborsClassifier': {'Train': 80.63314711359403, 'Test': 71.86147186147186}, 'AdaBoostClassifier': {'Train': 84.17132216014897, 'Test': 74.02597402597402}, 'BaggingClassifier': {'Train': 97.76536312849163, 'Test': 75.32467532467533}}\n",
            "{'LogisticRegression': {'Train': 78.58472998137802, 'Test': 73.59307359307358}, 'DecisionTreeClassifier': {'Train': 100.0, 'Test': 73.59307359307358}, 'SVC': {'Train': 78.02607076350093, 'Test': 74.45887445887446}, 'GaussianNB': {'Train': 77.6536312849162, 'Test': 74.45887445887446}, 'KNeighborsClassifier': {'Train': 80.63314711359403, 'Test': 71.86147186147186}, 'AdaBoostClassifier': {'Train': 84.17132216014897, 'Test': 74.02597402597402}, 'BaggingClassifier': {'Train': 97.76536312849163, 'Test': 75.32467532467533}, 'RandomForestClassifier': {'Train': 97.95158286778398, 'Test': 76.19047619047619}}\n",
            "{'LogisticRegression': {'Train': 78.58472998137802, 'Test': 73.59307359307358}, 'DecisionTreeClassifier': {'Train': 100.0, 'Test': 73.59307359307358}, 'SVC': {'Train': 78.02607076350093, 'Test': 74.45887445887446}, 'GaussianNB': {'Train': 77.6536312849162, 'Test': 74.45887445887446}, 'KNeighborsClassifier': {'Train': 80.63314711359403, 'Test': 71.86147186147186}, 'AdaBoostClassifier': {'Train': 84.17132216014897, 'Test': 74.02597402597402}, 'BaggingClassifier': {'Train': 97.76536312849163, 'Test': 75.32467532467533}, 'RandomForestClassifier': {'Train': 97.95158286778398, 'Test': 76.19047619047619}, 'ExtraTreesClassifier': {'Train': 100.0, 'Test': 73.16017316017316}}\n",
            "RESULTS FOR SUPER LEARNER: \n",
            "-------------------------------\n",
            "ACCURACY SCORE ON TRAIN: 98.69646182495345\n",
            "\n",
            "\n",
            "ACCURACY SCORE ON TEST: 76.19047619047619\n",
            "\n",
            "=================================\n"
          ],
          "name": "stdout"
        }
      ]
    },
    {
      "cell_type": "code",
      "metadata": {
        "colab": {
          "base_uri": "https://localhost:8080/"
        },
        "id": "nQQqF03yOjO4",
        "outputId": "6e196a66-53b9-4806-d9db-4377bc71592b"
      },
      "source": [
        "scores['stacked'] = {\n",
        "        'Train': (accuracy_score(y_train, yhat_train))*100,\n",
        "        'Test': (accuracy_score(y_test, yhat_test))*100\n",
        "    }\n",
        "scores"
      ],
      "execution_count": 61,
      "outputs": [
        {
          "output_type": "execute_result",
          "data": {
            "text/plain": [
              "{'AdaBoostClassifier': {'Test': 74.02597402597402, 'Train': 84.17132216014897},\n",
              " 'BaggingClassifier': {'Test': 75.32467532467533, 'Train': 97.76536312849163},\n",
              " 'DecisionTreeClassifier': {'Test': 73.59307359307358, 'Train': 100.0},\n",
              " 'ExtraTreesClassifier': {'Test': 73.16017316017316, 'Train': 100.0},\n",
              " 'GaussianNB': {'Test': 74.45887445887446, 'Train': 77.6536312849162},\n",
              " 'KNeighborsClassifier': {'Test': 71.86147186147186,\n",
              "  'Train': 80.63314711359403},\n",
              " 'LogisticRegression': {'Test': 73.59307359307358, 'Train': 78.58472998137802},\n",
              " 'RandomForestClassifier': {'Test': 76.19047619047619,\n",
              "  'Train': 97.95158286778398},\n",
              " 'SVC': {'Test': 74.45887445887446, 'Train': 78.02607076350093},\n",
              " 'stacked': {'Test': 76.19047619047619, 'Train': 98.69646182495345}}"
            ]
          },
          "metadata": {
            "tags": []
          },
          "execution_count": 61
        }
      ]
    },
    {
      "cell_type": "code",
      "metadata": {
        "id": "NlhmKYBkQsjT"
      },
      "source": [
        "import matplotlib.pyplot as plt\n",
        "\n",
        "scores_df = pd.DataFrame(scores)"
      ],
      "execution_count": 62,
      "outputs": []
    },
    {
      "cell_type": "code",
      "metadata": {
        "colab": {
          "base_uri": "https://localhost:8080/",
          "height": 131
        },
        "id": "JLEl2D-oRi3t",
        "outputId": "a8be9e07-6cd0-4076-c14f-6b13086bf2e1"
      },
      "source": [
        "scores_df"
      ],
      "execution_count": 63,
      "outputs": [
        {
          "output_type": "execute_result",
          "data": {
            "text/html": [
              "<div>\n",
              "<style scoped>\n",
              "    .dataframe tbody tr th:only-of-type {\n",
              "        vertical-align: middle;\n",
              "    }\n",
              "\n",
              "    .dataframe tbody tr th {\n",
              "        vertical-align: top;\n",
              "    }\n",
              "\n",
              "    .dataframe thead th {\n",
              "        text-align: right;\n",
              "    }\n",
              "</style>\n",
              "<table border=\"1\" class=\"dataframe\">\n",
              "  <thead>\n",
              "    <tr style=\"text-align: right;\">\n",
              "      <th></th>\n",
              "      <th>LogisticRegression</th>\n",
              "      <th>DecisionTreeClassifier</th>\n",
              "      <th>SVC</th>\n",
              "      <th>GaussianNB</th>\n",
              "      <th>KNeighborsClassifier</th>\n",
              "      <th>AdaBoostClassifier</th>\n",
              "      <th>BaggingClassifier</th>\n",
              "      <th>RandomForestClassifier</th>\n",
              "      <th>ExtraTreesClassifier</th>\n",
              "      <th>stacked</th>\n",
              "    </tr>\n",
              "  </thead>\n",
              "  <tbody>\n",
              "    <tr>\n",
              "      <th>Train</th>\n",
              "      <td>78.584730</td>\n",
              "      <td>100.000000</td>\n",
              "      <td>78.026071</td>\n",
              "      <td>77.653631</td>\n",
              "      <td>80.633147</td>\n",
              "      <td>84.171322</td>\n",
              "      <td>97.765363</td>\n",
              "      <td>97.951583</td>\n",
              "      <td>100.000000</td>\n",
              "      <td>98.696462</td>\n",
              "    </tr>\n",
              "    <tr>\n",
              "      <th>Test</th>\n",
              "      <td>73.593074</td>\n",
              "      <td>73.593074</td>\n",
              "      <td>74.458874</td>\n",
              "      <td>74.458874</td>\n",
              "      <td>71.861472</td>\n",
              "      <td>74.025974</td>\n",
              "      <td>75.324675</td>\n",
              "      <td>76.190476</td>\n",
              "      <td>73.160173</td>\n",
              "      <td>76.190476</td>\n",
              "    </tr>\n",
              "  </tbody>\n",
              "</table>\n",
              "</div>"
            ],
            "text/plain": [
              "       LogisticRegression  ...    stacked\n",
              "Train           78.584730  ...  98.696462\n",
              "Test            73.593074  ...  76.190476\n",
              "\n",
              "[2 rows x 10 columns]"
            ]
          },
          "metadata": {
            "tags": []
          },
          "execution_count": 63
        }
      ]
    },
    {
      "cell_type": "code",
      "metadata": {
        "id": "V_9i2mX2Rj4E"
      },
      "source": [
        "long_df = scores_df.reset_index()"
      ],
      "execution_count": 72,
      "outputs": []
    },
    {
      "cell_type": "code",
      "metadata": {
        "colab": {
          "base_uri": "https://localhost:8080/",
          "height": 131
        },
        "id": "B0XTZNoARqVg",
        "outputId": "2fdd8ec6-d1d5-4244-d3ad-c4e0b5572351"
      },
      "source": [
        "long_df"
      ],
      "execution_count": 73,
      "outputs": [
        {
          "output_type": "execute_result",
          "data": {
            "text/html": [
              "<div>\n",
              "<style scoped>\n",
              "    .dataframe tbody tr th:only-of-type {\n",
              "        vertical-align: middle;\n",
              "    }\n",
              "\n",
              "    .dataframe tbody tr th {\n",
              "        vertical-align: top;\n",
              "    }\n",
              "\n",
              "    .dataframe thead th {\n",
              "        text-align: right;\n",
              "    }\n",
              "</style>\n",
              "<table border=\"1\" class=\"dataframe\">\n",
              "  <thead>\n",
              "    <tr style=\"text-align: right;\">\n",
              "      <th></th>\n",
              "      <th>index</th>\n",
              "      <th>LogisticRegression</th>\n",
              "      <th>DecisionTreeClassifier</th>\n",
              "      <th>SVC</th>\n",
              "      <th>GaussianNB</th>\n",
              "      <th>KNeighborsClassifier</th>\n",
              "      <th>AdaBoostClassifier</th>\n",
              "      <th>BaggingClassifier</th>\n",
              "      <th>RandomForestClassifier</th>\n",
              "      <th>ExtraTreesClassifier</th>\n",
              "      <th>stacked</th>\n",
              "    </tr>\n",
              "  </thead>\n",
              "  <tbody>\n",
              "    <tr>\n",
              "      <th>0</th>\n",
              "      <td>Train</td>\n",
              "      <td>78.584730</td>\n",
              "      <td>100.000000</td>\n",
              "      <td>78.026071</td>\n",
              "      <td>77.653631</td>\n",
              "      <td>80.633147</td>\n",
              "      <td>84.171322</td>\n",
              "      <td>97.765363</td>\n",
              "      <td>97.951583</td>\n",
              "      <td>100.000000</td>\n",
              "      <td>98.696462</td>\n",
              "    </tr>\n",
              "    <tr>\n",
              "      <th>1</th>\n",
              "      <td>Test</td>\n",
              "      <td>73.593074</td>\n",
              "      <td>73.593074</td>\n",
              "      <td>74.458874</td>\n",
              "      <td>74.458874</td>\n",
              "      <td>71.861472</td>\n",
              "      <td>74.025974</td>\n",
              "      <td>75.324675</td>\n",
              "      <td>76.190476</td>\n",
              "      <td>73.160173</td>\n",
              "      <td>76.190476</td>\n",
              "    </tr>\n",
              "  </tbody>\n",
              "</table>\n",
              "</div>"
            ],
            "text/plain": [
              "   index  LogisticRegression  ...  ExtraTreesClassifier    stacked\n",
              "0  Train           78.584730  ...            100.000000  98.696462\n",
              "1   Test           73.593074  ...             73.160173  76.190476\n",
              "\n",
              "[2 rows x 11 columns]"
            ]
          },
          "metadata": {
            "tags": []
          },
          "execution_count": 73
        }
      ]
    },
    {
      "cell_type": "code",
      "metadata": {
        "colab": {
          "base_uri": "https://localhost:8080/",
          "height": 514
        },
        "id": "MV6N7uafRrWv",
        "outputId": "bc2728f5-c368-4bda-f1c0-0ffc6d245657"
      },
      "source": [
        "scores_df.plot(kind='bar', figsize=(15, 8))"
      ],
      "execution_count": 74,
      "outputs": [
        {
          "output_type": "execute_result",
          "data": {
            "text/plain": [
              "<matplotlib.axes._subplots.AxesSubplot at 0x7f1aa40b7b00>"
            ]
          },
          "metadata": {
            "tags": []
          },
          "execution_count": 74
        },
        {
          "output_type": "display_data",
          "data": {
            "image/png": "[encoded data removed]",
            "text/plain": [
              "<Figure size 1080x576 with 1 Axes>"
            ]
          },
          "metadata": {
            "tags": [],
            "needs_background": "light"
          }
        }
      ]
    },
    {
      "cell_type": "code",
      "metadata": {
        "id": "fez7FIaDSOeX"
      },
      "source": [
        ""
      ],
      "execution_count": null,
      "outputs": []
    }
  ]
}